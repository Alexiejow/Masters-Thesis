{
 "cells": [
  {
   "cell_type": "code",
   "execution_count": 3,
   "metadata": {},
   "outputs": [
    {
     "ename": "KeyError",
     "evalue": "'translations'",
     "output_type": "error",
     "traceback": [
      "\u001b[0;31m---------------------------------------------------------------------------\u001b[0m",
      "\u001b[0;31mKeyError\u001b[0m                                  Traceback (most recent call last)",
      "Input \u001b[0;32mIn [3]\u001b[0m, in \u001b[0;36m<cell line: 35>\u001b[0;34m()\u001b[0m\n\u001b[1;32m     32\u001b[0m output_file \u001b[38;5;241m=\u001b[39m \u001b[38;5;124m'\u001b[39m\u001b[38;5;124m./CT24_checkworthy_english/CT24_checkworthy_english_train-DEEPL.csv\u001b[39m\u001b[38;5;124m'\u001b[39m\n\u001b[1;32m     33\u001b[0m target_lang \u001b[38;5;241m=\u001b[39m \u001b[38;5;124m'\u001b[39m\u001b[38;5;124mpl\u001b[39m\u001b[38;5;124m'\u001b[39m  \u001b[38;5;66;03m# Target language for translation\u001b[39;00m\n\u001b[0;32m---> 35\u001b[0m \u001b[43mtranslate_tsv_file\u001b[49m\u001b[43m(\u001b[49m\u001b[43minput_file\u001b[49m\u001b[43m,\u001b[49m\u001b[43m \u001b[49m\u001b[43moutput_file\u001b[49m\u001b[43m,\u001b[49m\u001b[43m \u001b[49m\u001b[43mtarget_lang\u001b[49m\u001b[43m)\u001b[49m\n",
      "Input \u001b[0;32mIn [3]\u001b[0m, in \u001b[0;36mtranslate_tsv_file\u001b[0;34m(input_file, output_file, target_lang)\u001b[0m\n\u001b[1;32m     24\u001b[0m csv_writer \u001b[38;5;241m=\u001b[39m csv\u001b[38;5;241m.\u001b[39mwriter(csv_file)\n\u001b[1;32m     26\u001b[0m \u001b[38;5;28;01mfor\u001b[39;00m row \u001b[38;5;129;01min\u001b[39;00m tsv_reader:\n\u001b[0;32m---> 27\u001b[0m     translated_row \u001b[38;5;241m=\u001b[39m [translate_text(cell, target_lang) \u001b[38;5;28;01mif\u001b[39;00m i \u001b[38;5;241m==\u001b[39m \u001b[38;5;241m1\u001b[39m \u001b[38;5;28;01melse\u001b[39;00m cell \u001b[38;5;28;01mfor\u001b[39;00m i, cell \u001b[38;5;129;01min\u001b[39;00m \u001b[38;5;28menumerate\u001b[39m(row)]\n\u001b[1;32m     28\u001b[0m     csv_writer\u001b[38;5;241m.\u001b[39mwriterow(translated_row)\n",
      "Input \u001b[0;32mIn [3]\u001b[0m, in \u001b[0;36m<listcomp>\u001b[0;34m(.0)\u001b[0m\n\u001b[1;32m     24\u001b[0m csv_writer \u001b[38;5;241m=\u001b[39m csv\u001b[38;5;241m.\u001b[39mwriter(csv_file)\n\u001b[1;32m     26\u001b[0m \u001b[38;5;28;01mfor\u001b[39;00m row \u001b[38;5;129;01min\u001b[39;00m tsv_reader:\n\u001b[0;32m---> 27\u001b[0m     translated_row \u001b[38;5;241m=\u001b[39m [\u001b[43mtranslate_text\u001b[49m\u001b[43m(\u001b[49m\u001b[43mcell\u001b[49m\u001b[43m,\u001b[49m\u001b[43m \u001b[49m\u001b[43mtarget_lang\u001b[49m\u001b[43m)\u001b[49m \u001b[38;5;28;01mif\u001b[39;00m i \u001b[38;5;241m==\u001b[39m \u001b[38;5;241m1\u001b[39m \u001b[38;5;28;01melse\u001b[39;00m cell \u001b[38;5;28;01mfor\u001b[39;00m i, cell \u001b[38;5;129;01min\u001b[39;00m \u001b[38;5;28menumerate\u001b[39m(row)]\n\u001b[1;32m     28\u001b[0m     csv_writer\u001b[38;5;241m.\u001b[39mwriterow(translated_row)\n",
      "Input \u001b[0;32mIn [3]\u001b[0m, in \u001b[0;36mtranslate_text\u001b[0;34m(text, target_lang)\u001b[0m\n\u001b[1;32m      6\u001b[0m response \u001b[38;5;241m=\u001b[39m requests\u001b[38;5;241m.\u001b[39mpost(\n\u001b[1;32m      7\u001b[0m     \u001b[38;5;124m'\u001b[39m\u001b[38;5;124mhttps://api-free.deepl.com/v2/translate\u001b[39m\u001b[38;5;124m'\u001b[39m,\n\u001b[1;32m      8\u001b[0m     data\u001b[38;5;241m=\u001b[39m{\n\u001b[0;32m   (...)\u001b[0m\n\u001b[1;32m     12\u001b[0m     }\n\u001b[1;32m     13\u001b[0m )\n\u001b[1;32m     15\u001b[0m \u001b[38;5;66;03m# Parse the response and return the translated text\u001b[39;00m\n\u001b[0;32m---> 16\u001b[0m translation \u001b[38;5;241m=\u001b[39m \u001b[43mresponse\u001b[49m\u001b[38;5;241;43m.\u001b[39;49m\u001b[43mjson\u001b[49m\u001b[43m(\u001b[49m\u001b[43m)\u001b[49m\u001b[43m[\u001b[49m\u001b[38;5;124;43m'\u001b[39;49m\u001b[38;5;124;43mtranslations\u001b[39;49m\u001b[38;5;124;43m'\u001b[39;49m\u001b[43m]\u001b[49m[\u001b[38;5;241m0\u001b[39m][\u001b[38;5;124m'\u001b[39m\u001b[38;5;124mtext\u001b[39m\u001b[38;5;124m'\u001b[39m]\n\u001b[1;32m     17\u001b[0m \u001b[38;5;28;01mreturn\u001b[39;00m translation\n",
      "\u001b[0;31mKeyError\u001b[0m: 'translations'"
     ]
    }
   ],
   "source": [
    "import csv\n",
    "import requests\n",
    "\n",
    "def translate_text(text, target_lang):\n",
    "    # Make a POST request to the DeepL API\n",
    "    response = requests.post(\n",
    "        'https://api-free.deepl.com/v2/translate',\n",
    "        data={\n",
    "            'auth_key': '4099b53c-0394-43b0-9fa2-da1a1aad421f:fx',\n",
    "            'text': text,\n",
    "            'target_lang': target_lang\n",
    "        }\n",
    "    )\n",
    "    \n",
    "    # Parse the response and return the translated text\n",
    "    translation = response.json()['translations'][0]['text']\n",
    "    return translation\n",
    "\n",
    "def translate_tsv_file(input_file, output_file, target_lang):\n",
    "    with open(input_file, 'r', encoding='utf-8') as tsv_file:\n",
    "        tsv_reader = csv.reader(tsv_file, delimiter='\\t')\n",
    "        \n",
    "        with open(output_file, 'w', encoding='utf-8', newline='') as csv_file:\n",
    "            csv_writer = csv.writer(csv_file)\n",
    "            \n",
    "            for row in tsv_reader:\n",
    "                translated_row = [translate_text(cell, target_lang) if i == 1 else cell for i, cell in enumerate(row)]\n",
    "                csv_writer.writerow(translated_row)\n",
    "\n",
    "# Example usage\n",
    "input_file = './CT24_checkworthy_english/CT24_checkworthy_english_train.tsv'\n",
    "output_file = './CT24_checkworthy_english/CT24_checkworthy_english_train-DEEPL.csv'\n",
    "target_lang = 'pl'  # Target language for translation\n",
    "\n",
    "translate_tsv_file(input_file, output_file, target_lang)\n"
   ]
  },
  {
   "cell_type": "code",
   "execution_count": null,
   "metadata": {},
   "outputs": [],
   "source": []
  }
 ],
 "metadata": {
  "kernelspec": {
   "display_name": "local-venv-kernel",
   "language": "python",
   "name": "local-venv-kernel"
  },
  "language_info": {
   "codemirror_mode": {
    "name": "ipython",
    "version": 3
   },
   "file_extension": ".py",
   "mimetype": "text/x-python",
   "name": "python",
   "nbconvert_exporter": "python",
   "pygments_lexer": "ipython3",
   "version": "3.9.12"
  }
 },
 "nbformat": 4,
 "nbformat_minor": 2
}
